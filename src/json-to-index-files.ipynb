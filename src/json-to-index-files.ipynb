{
 "cells": [
  {
   "cell_type": "code",
   "execution_count": 3,
   "id": "883dbe03",
   "metadata": {},
   "outputs": [],
   "source": [
    "from pyserini.index import IndexReader\n",
    "import os\n",
    "import pandas as pd\n",
    "import itertools\n",
    "import pyserini\n",
    "from pathlib import Path\n",
    "import json\n",
    "import math\n",
    "from collections import defaultdict"
   ]
  },
  {
   "cell_type": "markdown",
   "id": "d0a49fb9",
   "metadata": {},
   "source": [
    "build json index files"
   ]
  },
  {
   "cell_type": "code",
   "execution_count": 29,
   "id": "48009219",
   "metadata": {},
   "outputs": [
    {
     "name": "stdout",
     "output_type": "stream",
     "text": [
      "write bullet_points\n",
      "write bullet_points\n",
      "write bullet_points\n",
      "write bullet_points\n",
      "write bullet_points\n",
      "write bullet_points\n",
      "write bullet_points\n",
      "write bullet_points\n",
      "write bullet_points\n",
      "write bullet_points\n",
      "write bullet_points\n",
      "write bullet_points\n",
      "write bullet_points\n",
      "write bullet_points\n",
      "write bullet_points\n",
      "write bullet_points\n"
     ]
    }
   ],
   "source": [
    "\n",
    "cwd = Path(os.getcwd())\n",
    "path_dataset = os.path.join(cwd.parent.absolute(),'dataset')\n",
    "path_data_txt = os.path.join(path_dataset, 'data_txt')\n",
    "path_data_json = os.path.join(path_dataset, 'data_json')\n",
    "\n",
    "\n",
    "# create preprocessed index files\n",
    "def buildjson(name, path, doc_ls):\n",
    "    arr_dic = []\n",
    "    for i in range(len(doc_ls)):\n",
    "        dic = {}\n",
    "        dic['id'] = str(i)\n",
    "        dic['contents'] = doc_ls[i]\n",
    "        arr_dic.append(dic)\n",
    "\n",
    "        # Serializing json \n",
    "        json_object = json.dumps(arr_dic, indent = 4)\n",
    "\n",
    "        # Writing to sample.json\n",
    "        with open(os.path.join(path,'data_index_json' ,name + '.json'), \"w\") as outfile:\n",
    "            outfile.write(json_object)\n",
    "            print(f'write {name}')\n",
    "    \n",
    "\n",
    "# get raw json files & preprocess\n",
    "doc_ls = []\n",
    "for filename in os.listdir(path_data_json):\n",
    "    path_in  = os.path.join( path_data_json, filename  )\n",
    "    with open(path_in) as json_file:\n",
    "        data = json.load(json_file)\n",
    "        for experience in data['Experience']:\n",
    "            bulletPoint_ls = experience['description'].split(\"\\n\")\n",
    "            doc_ls += bulletPoint_ls\n",
    "\n",
    "buildjson('bullet_points', path_dataset,doc_ls)"
   ]
  },
  {
   "cell_type": "code",
   "execution_count": null,
   "id": "b123943d",
   "metadata": {},
   "outputs": [],
   "source": [
    "\n"
   ]
  }
 ],
 "metadata": {
  "kernelspec": {
   "display_name": "Python 3 (ipykernel)",
   "language": "python",
   "name": "python3"
  },
  "language_info": {
   "codemirror_mode": {
    "name": "ipython",
    "version": 3
   },
   "file_extension": ".py",
   "mimetype": "text/x-python",
   "name": "python",
   "nbconvert_exporter": "python",
   "pygments_lexer": "ipython3",
   "version": "3.9.7"
  }
 },
 "nbformat": 4,
 "nbformat_minor": 5
}
