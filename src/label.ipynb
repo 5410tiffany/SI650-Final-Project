{
 "cells": [
  {
   "cell_type": "code",
   "execution_count": 153,
   "metadata": {},
   "outputs": [
    {
     "data": {
      "text/html": [
       "<style>.container { width:100% !important; }</style>"
      ],
      "text/plain": [
       "<IPython.core.display.HTML object>"
      ]
     },
     "metadata": {},
     "output_type": "display_data"
    },
    {
     "name": "stderr",
     "output_type": "stream",
     "text": [
      "/sw/arcts/centos7/python3.6-anaconda/5.2.0/lib/python3.6/site-packages/ipykernel_launcher.py:9: FutureWarning: Passing a negative integer is deprecated in version 1.0 and will not be supported in future version. Instead, use None to not limit the column width.\n",
      "  if __name__ == '__main__':\n"
     ]
    }
   ],
   "source": [
    "import pandas as pd\n",
    "import requests\n",
    "from bs4 import BeautifulSoup\n",
    "from IPython.core.display import display, HTML\n",
    "display(HTML(\"<style>.container { width:100% !important; }</style>\"))\n",
    "pd.set_option('display.max_rows', None)\n",
    "pd.set_option('display.max_columns', None)\n",
    "pd.set_option('display.width', None)\n",
    "pd.set_option('display.max_colwidth', -1)"
   ]
  },
  {
   "cell_type": "code",
   "execution_count": 160,
   "metadata": {},
   "outputs": [],
   "source": [
    "def getSynonymsByGoogle(query):\n",
    "    url = \"https://www.google.com/search?q=\" + query\n",
    "    res = requests.get(url) \n",
    "    Soup = BeautifulSoup(res.text,'html.parser') \n",
    "    links = Soup.findAll('a')\n",
    "    link_img = None\n",
    "    for link in links:\n",
    "        if 'Images' in link.get_text():\n",
    "            link_img = link.get('href')\n",
    "            break\n",
    "    synonyms = []\n",
    "    if link_img:\n",
    "        url = 'https://www.google.com'+link_img\n",
    "        res = requests.get(url)\n",
    "        Soup = BeautifulSoup(res.text,'html.parser') \n",
    "        span_synonyms = Soup.find_all(\"a\",class_= \"TwVfHd\")\n",
    "        for span in span_synonyms:\n",
    "            synonyms.append(span.get_text('innerText'))\n",
    "    return synonyms\n",
    "\n",
    "def getIdxCandidates(df,keyword):\n",
    "    idx_candidates = []\n",
    "    for idx in range(len(df)):\n",
    "        if keyword.lower() in df_qrel.loc[idx,'text'].lower():\n",
    "            idx_candidates.append(idx)\n",
    "    return idx_candidates\n",
    "\n",
    "def getSynonymsToidxs(synonyms,df):\n",
    "    synonymsToidxs =  { synonym: getIdxCandidates(df,synonym) for synonym in synonyms}\n",
    "    idxs = []\n",
    "    for synonym in synonyms:\n",
    "        idxs += getIdxCandidates(df,synonym)\n",
    "    return synonymsToidxs,sorted( list(set(idxs)) )"
   ]
  },
  {
   "cell_type": "code",
   "execution_count": 164,
   "metadata": {
    "scrolled": true
   },
   "outputs": [
    {
     "name": "stdout",
     "output_type": "stream",
     "text": [
      "['business', 'icon', 'infographic', 'machine learning', 'cloud', 'artificial intelligence', 'big data', 'marketing', 'healthcare', 'dashboard']\n"
     ]
    }
   ],
   "source": [
    "path_labelTemplate = '../dataset/qrel/query - template.csv'\n",
    "qid = 9\n",
    "query = 'data analytics' \n",
    "\n",
    "df_qrel = pd.read_csv(path_labelTemplate)\n",
    "df_qrel['qid'] = qid\n",
    "df_qrel['score'] = -1\n",
    "\n",
    "synonyms_reference = getSynonymsByGoogle(query)\n",
    "print(synonyms_reference)"
   ]
  },
  {
   "cell_type": "code",
   "execution_count": 162,
   "metadata": {},
   "outputs": [
    {
     "name": "stdout",
     "output_type": "stream",
     "text": [
      "['machine learning', 'analysis', 'analyzed', 'analytics', 'tableau', 'dashboard', 'data analytics']\n",
      "39 [0, 24, 26, 31, 37, 56, 57, 85, 91, 93, 95, 122, 123, 127, 137, 143, 144, 147, 153, 154, 155, 166, 171, 180, 187, 188, 189, 216, 217, 219, 231, 233, 239, 240, 244, 264, 283, 287, 314]\n"
     ]
    }
   ],
   "source": [
    "synonyms = ['machine learning','analysis','analyzed','analytics','tableau','dashboard'] + [query]\n",
    "print(synonyms)\n",
    "\n",
    "synonymsToidxs,idxs = getSynonymsToidxs(synonyms,df_qrel)\n",
    "print(len(idxs),idxs)"
   ]
  },
  {
   "cell_type": "code",
   "execution_count": 163,
   "metadata": {
    "scrolled": true
   },
   "outputs": [
    {
     "data": {
      "text/html": [
       "<style  type=\"text/css\" >\n",
       "#T_b9deeb8c_5c7c_11ec_b3a0_509a4c960aecrow0_col0,#T_b9deeb8c_5c7c_11ec_b3a0_509a4c960aecrow1_col0,#T_b9deeb8c_5c7c_11ec_b3a0_509a4c960aecrow2_col0,#T_b9deeb8c_5c7c_11ec_b3a0_509a4c960aecrow3_col0,#T_b9deeb8c_5c7c_11ec_b3a0_509a4c960aecrow4_col0,#T_b9deeb8c_5c7c_11ec_b3a0_509a4c960aecrow5_col0,#T_b9deeb8c_5c7c_11ec_b3a0_509a4c960aecrow6_col0,#T_b9deeb8c_5c7c_11ec_b3a0_509a4c960aecrow7_col0,#T_b9deeb8c_5c7c_11ec_b3a0_509a4c960aecrow8_col0,#T_b9deeb8c_5c7c_11ec_b3a0_509a4c960aecrow9_col0,#T_b9deeb8c_5c7c_11ec_b3a0_509a4c960aecrow10_col0,#T_b9deeb8c_5c7c_11ec_b3a0_509a4c960aecrow11_col0,#T_b9deeb8c_5c7c_11ec_b3a0_509a4c960aecrow12_col0,#T_b9deeb8c_5c7c_11ec_b3a0_509a4c960aecrow13_col0,#T_b9deeb8c_5c7c_11ec_b3a0_509a4c960aecrow14_col0,#T_b9deeb8c_5c7c_11ec_b3a0_509a4c960aecrow15_col0,#T_b9deeb8c_5c7c_11ec_b3a0_509a4c960aecrow16_col0,#T_b9deeb8c_5c7c_11ec_b3a0_509a4c960aecrow17_col0,#T_b9deeb8c_5c7c_11ec_b3a0_509a4c960aecrow18_col0,#T_b9deeb8c_5c7c_11ec_b3a0_509a4c960aecrow19_col0,#T_b9deeb8c_5c7c_11ec_b3a0_509a4c960aecrow20_col0,#T_b9deeb8c_5c7c_11ec_b3a0_509a4c960aecrow21_col0,#T_b9deeb8c_5c7c_11ec_b3a0_509a4c960aecrow22_col0,#T_b9deeb8c_5c7c_11ec_b3a0_509a4c960aecrow23_col0,#T_b9deeb8c_5c7c_11ec_b3a0_509a4c960aecrow24_col0,#T_b9deeb8c_5c7c_11ec_b3a0_509a4c960aecrow25_col0,#T_b9deeb8c_5c7c_11ec_b3a0_509a4c960aecrow26_col0,#T_b9deeb8c_5c7c_11ec_b3a0_509a4c960aecrow27_col0,#T_b9deeb8c_5c7c_11ec_b3a0_509a4c960aecrow28_col0,#T_b9deeb8c_5c7c_11ec_b3a0_509a4c960aecrow29_col0,#T_b9deeb8c_5c7c_11ec_b3a0_509a4c960aecrow30_col0,#T_b9deeb8c_5c7c_11ec_b3a0_509a4c960aecrow31_col0,#T_b9deeb8c_5c7c_11ec_b3a0_509a4c960aecrow32_col0,#T_b9deeb8c_5c7c_11ec_b3a0_509a4c960aecrow33_col0,#T_b9deeb8c_5c7c_11ec_b3a0_509a4c960aecrow34_col0,#T_b9deeb8c_5c7c_11ec_b3a0_509a4c960aecrow35_col0,#T_b9deeb8c_5c7c_11ec_b3a0_509a4c960aecrow36_col0,#T_b9deeb8c_5c7c_11ec_b3a0_509a4c960aecrow37_col0,#T_b9deeb8c_5c7c_11ec_b3a0_509a4c960aecrow38_col0{\n",
       "            text-align:  left;\n",
       "        }</style><table id=\"T_b9deeb8c_5c7c_11ec_b3a0_509a4c960aec\" ><thead>    <tr>        <th class=\"blank level0\" ></th>        <th class=\"col_heading level0 col0\" >text</th>    </tr></thead><tbody>\n",
       "                <tr>\n",
       "                        <th id=\"T_b9deeb8c_5c7c_11ec_b3a0_509a4c960aeclevel0_row0\" class=\"row_heading level0 row0\" >0</th>\n",
       "                        <td id=\"T_b9deeb8c_5c7c_11ec_b3a0_509a4c960aecrow0_col0\" class=\"data row0 col0\" >Analyzed performance on computer cache and improved it by using machine learning algorithms</td>\n",
       "            </tr>\n",
       "            <tr>\n",
       "                        <th id=\"T_b9deeb8c_5c7c_11ec_b3a0_509a4c960aeclevel0_row1\" class=\"row_heading level0 row1\" >24</th>\n",
       "                        <td id=\"T_b9deeb8c_5c7c_11ec_b3a0_509a4c960aecrow1_col0\" class=\"data row1 col0\" >Built schema of services using AWS Cloudformation including log system, AWS Dashboard and Warning service, cross-account IAM role config, S3 Storage buckets and pipelines.</td>\n",
       "            </tr>\n",
       "            <tr>\n",
       "                        <th id=\"T_b9deeb8c_5c7c_11ec_b3a0_509a4c960aeclevel0_row2\" class=\"row_heading level0 row2\" >26</th>\n",
       "                        <td id=\"T_b9deeb8c_5c7c_11ec_b3a0_509a4c960aecrow2_col0\" class=\"data row2 col0\" >Redesigned and developed perceptual algorithms for obstacle detection and tracking on intelligent industry truck based on OpenCV and C++. Analyzed radar point cloud data by methods of re-sampling, clustering and filtering. Quantified test results of model based on scikit-learning. Improved the tracking accuracy by 7%, meanwhile decreasing the false positive rate by 12%.</td>\n",
       "            </tr>\n",
       "            <tr>\n",
       "                        <th id=\"T_b9deeb8c_5c7c_11ec_b3a0_509a4c960aeclevel0_row3\" class=\"row_heading level0 row3\" >31</th>\n",
       "                        <td id=\"T_b9deeb8c_5c7c_11ec_b3a0_509a4c960aecrow3_col0\" class=\"data row3 col0\" >- Collected 2.6 billion records of service disruption information on Azure and analyzed those records to construct a Power BI dashboard to showcase recent unhealthy clusters.</td>\n",
       "            </tr>\n",
       "            <tr>\n",
       "                        <th id=\"T_b9deeb8c_5c7c_11ec_b3a0_509a4c960aeclevel0_row4\" class=\"row_heading level0 row4\" >37</th>\n",
       "                        <td id=\"T_b9deeb8c_5c7c_11ec_b3a0_509a4c960aecrow4_col0\" class=\"data row4 col0\" >- Analysis the data and solving the latency and accuracy issue with MATLAB and Python.</td>\n",
       "            </tr>\n",
       "            <tr>\n",
       "                        <th id=\"T_b9deeb8c_5c7c_11ec_b3a0_509a4c960aeclevel0_row5\" class=\"row_heading level0 row5\" >56</th>\n",
       "                        <td id=\"T_b9deeb8c_5c7c_11ec_b3a0_509a4c960aecrow5_col0\" class=\"data row5 col0\" >● Development of courseware & editing course textbooks and lecture and assisting teachers with the basic courses of data mining, preparation, visualization, algorithm, machine learning, A/B testing and probability & Statistics.</td>\n",
       "            </tr>\n",
       "            <tr>\n",
       "                        <th id=\"T_b9deeb8c_5c7c_11ec_b3a0_509a4c960aeclevel0_row6\" class=\"row_heading level0 row6\" >57</th>\n",
       "                        <td id=\"T_b9deeb8c_5c7c_11ec_b3a0_509a4c960aecrow6_col0\" class=\"data row6 col0\" >Expand the customer service management systems, analysis the usage of the product, reducing manual workload for Service data technicians and operators.</td>\n",
       "            </tr>\n",
       "            <tr>\n",
       "                        <th id=\"T_b9deeb8c_5c7c_11ec_b3a0_509a4c960aeclevel0_row7\" class=\"row_heading level0 row7\" >85</th>\n",
       "                        <td id=\"T_b9deeb8c_5c7c_11ec_b3a0_509a4c960aecrow7_col0\" class=\"data row7 col0\" >• Built auto analysis data streaming pipelines to automate anomaly detection in a timely manner, saving quality assurance engineers 90% time on their daily investigations</td>\n",
       "            </tr>\n",
       "            <tr>\n",
       "                        <th id=\"T_b9deeb8c_5c7c_11ec_b3a0_509a4c960aeclevel0_row8\" class=\"row_heading level0 row8\" >91</th>\n",
       "                        <td id=\"T_b9deeb8c_5c7c_11ec_b3a0_509a4c960aecrow8_col0\" class=\"data row8 col0\" >• Analyzed clients’ requirements, designed ER models and constructed corresponding databases using SQL server including 200k records; gathered comprehensive profiles of cars and customers by SQL queries</td>\n",
       "            </tr>\n",
       "            <tr>\n",
       "                        <th id=\"T_b9deeb8c_5c7c_11ec_b3a0_509a4c960aeclevel0_row9\" class=\"row_heading level0 row9\" >93</th>\n",
       "                        <td id=\"T_b9deeb8c_5c7c_11ec_b3a0_509a4c960aecrow9_col0\" class=\"data row9 col0\" >• Deployed logistic regression, k-means clustering and cross-correlation table to conduct various analysis to find out characters of drivers, cars, roads, and environments when violations occurred</td>\n",
       "            </tr>\n",
       "            <tr>\n",
       "                        <th id=\"T_b9deeb8c_5c7c_11ec_b3a0_509a4c960aeclevel0_row10\" class=\"row_heading level0 row10\" >95</th>\n",
       "                        <td id=\"T_b9deeb8c_5c7c_11ec_b3a0_509a4c960aecrow10_col0\" class=\"data row10 col0\" >• Cleaned, organized and visualized data through Python (Pandas, Numpy, Matplotlib, Seaborn) to do exploratory data analysis and present key findings to colleagues</td>\n",
       "            </tr>\n",
       "            <tr>\n",
       "                        <th id=\"T_b9deeb8c_5c7c_11ec_b3a0_509a4c960aeclevel0_row11\" class=\"row_heading level0 row11\" >122</th>\n",
       "                        <td id=\"T_b9deeb8c_5c7c_11ec_b3a0_509a4c960aecrow11_col0\" class=\"data row11 col0\" >• Automated the process of data analysis to provide insightful reports and statistics about application errors and failures.</td>\n",
       "            </tr>\n",
       "            <tr>\n",
       "                        <th id=\"T_b9deeb8c_5c7c_11ec_b3a0_509a4c960aeclevel0_row12\" class=\"row_heading level0 row12\" >123</th>\n",
       "                        <td id=\"T_b9deeb8c_5c7c_11ec_b3a0_509a4c960aecrow12_col0\" class=\"data row12 col0\" >• Worked on the self-checkout Age-check feature of the application using Android Kotlin. Helped implement usage analytics for Walmart stores across the United States in Dynatrace, handling over 9 million requests per month.</td>\n",
       "            </tr>\n",
       "            <tr>\n",
       "                        <th id=\"T_b9deeb8c_5c7c_11ec_b3a0_509a4c960aeclevel0_row13\" class=\"row_heading level0 row13\" >127</th>\n",
       "                        <td id=\"T_b9deeb8c_5c7c_11ec_b3a0_509a4c960aecrow13_col0\" class=\"data row13 col0\" >• Analyzed Google Analytics Data to find problems in the website and thus optimizing the site by 30%.</td>\n",
       "            </tr>\n",
       "            <tr>\n",
       "                        <th id=\"T_b9deeb8c_5c7c_11ec_b3a0_509a4c960aeclevel0_row14\" class=\"row_heading level0 row14\" >137</th>\n",
       "                        <td id=\"T_b9deeb8c_5c7c_11ec_b3a0_509a4c960aecrow14_col0\" class=\"data row14 col0\" >• Aiding students with paradigms of machine learning, inner workings of ML algorithms and challenges in machine and deep learning.</td>\n",
       "            </tr>\n",
       "            <tr>\n",
       "                        <th id=\"T_b9deeb8c_5c7c_11ec_b3a0_509a4c960aeclevel0_row15\" class=\"row_heading level0 row15\" >143</th>\n",
       "                        <td id=\"T_b9deeb8c_5c7c_11ec_b3a0_509a4c960aecrow15_col0\" class=\"data row15 col0\" >• Created customer dashboards for data visualization in Tableau and PowerBI for ease of access to clients.</td>\n",
       "            </tr>\n",
       "            <tr>\n",
       "                        <th id=\"T_b9deeb8c_5c7c_11ec_b3a0_509a4c960aeclevel0_row16\" class=\"row_heading level0 row16\" >144</th>\n",
       "                        <td id=\"T_b9deeb8c_5c7c_11ec_b3a0_509a4c960aecrow16_col0\" class=\"data row16 col0\" >• Analyzed data-points and worked on feature engineering of the data to improve ensemble model accuracy</td>\n",
       "            </tr>\n",
       "            <tr>\n",
       "                        <th id=\"T_b9deeb8c_5c7c_11ec_b3a0_509a4c960aeclevel0_row17\" class=\"row_heading level0 row17\" >147</th>\n",
       "                        <td id=\"T_b9deeb8c_5c7c_11ec_b3a0_509a4c960aecrow17_col0\" class=\"data row17 col0\" >• Developed a python pipeline for comparison of various machine learning algorithms like linear and logistic regressions, support vector machine, random forest etc. to shift the Search Engine Marketing paradigm from logic-based to learning-based implementation.</td>\n",
       "            </tr>\n",
       "            <tr>\n",
       "                        <th id=\"T_b9deeb8c_5c7c_11ec_b3a0_509a4c960aeclevel0_row18\" class=\"row_heading level0 row18\" >153</th>\n",
       "                        <td id=\"T_b9deeb8c_5c7c_11ec_b3a0_509a4c960aecrow18_col0\" class=\"data row18 col0\" >• Implemented 15 interactive visual analytics in the form of dashboards with Tableau Desktop</td>\n",
       "            </tr>\n",
       "            <tr>\n",
       "                        <th id=\"T_b9deeb8c_5c7c_11ec_b3a0_509a4c960aeclevel0_row19\" class=\"row_heading level0 row19\" >154</th>\n",
       "                        <td id=\"T_b9deeb8c_5c7c_11ec_b3a0_509a4c960aecrow19_col0\" class=\"data row19 col0\" >• Nudity & Sexual Content Moderation System: Responsible for improving BIGO nudity & sexual content detection system, improved and contributed 5 models, built a RESTful server with flask server to run the model and recorded the analysis results in Mysql, successfully reduced the volume of human moderators' review by 30%, took down offensive or inappropriate live steaming by 12%, ensured safer and better user experience.</td>\n",
       "            </tr>\n",
       "            <tr>\n",
       "                        <th id=\"T_b9deeb8c_5c7c_11ec_b3a0_509a4c960aeclevel0_row20\" class=\"row_heading level0 row20\" >155</th>\n",
       "                        <td id=\"T_b9deeb8c_5c7c_11ec_b3a0_509a4c960aecrow20_col0\" class=\"data row20 col0\" >• Child Safety Moderation System: Analyzed 500+ valid cases, designed age model to restrict the age of streamer, deploy the server on AWS EC2 instances to support load balance and scalability, decreased the number of minor steamer by 80%, developed child safety model to take down inappropriate child-related content.</td>\n",
       "            </tr>\n",
       "            <tr>\n",
       "                        <th id=\"T_b9deeb8c_5c7c_11ec_b3a0_509a4c960aeclevel0_row21\" class=\"row_heading level0 row21\" >166</th>\n",
       "                        <td id=\"T_b9deeb8c_5c7c_11ec_b3a0_509a4c960aecrow21_col0\" class=\"data row21 col0\" >- Visiualize data via python or BI tools like Cognos or Tableau</td>\n",
       "            </tr>\n",
       "            <tr>\n",
       "                        <th id=\"T_b9deeb8c_5c7c_11ec_b3a0_509a4c960aeclevel0_row22\" class=\"row_heading level0 row22\" >171</th>\n",
       "                        <td id=\"T_b9deeb8c_5c7c_11ec_b3a0_509a4c960aecrow22_col0\" class=\"data row22 col0\" >- Use data to make funnel analysis, helping build a marketing strategy</td>\n",
       "            </tr>\n",
       "            <tr>\n",
       "                        <th id=\"T_b9deeb8c_5c7c_11ec_b3a0_509a4c960aeclevel0_row23\" class=\"row_heading level0 row23\" >180</th>\n",
       "                        <td id=\"T_b9deeb8c_5c7c_11ec_b3a0_509a4c960aecrow23_col0\" class=\"data row23 col0\" >A part-time bootcamp focusing on machine learning and deep learning. The curriculum covered from basic linear regression model to latest neural network model. We did several Kaggle competition to practice implementing and tuning model. In the final project, we adopt keras and built a mode to predict the interval of stock price.</td>\n",
       "            </tr>\n",
       "            <tr>\n",
       "                        <th id=\"T_b9deeb8c_5c7c_11ec_b3a0_509a4c960aeclevel0_row24\" class=\"row_heading level0 row24\" >187</th>\n",
       "                        <td id=\"T_b9deeb8c_5c7c_11ec_b3a0_509a4c960aecrow24_col0\" class=\"data row24 col0\" >- Build dashboard via Elasticsearch & Kibana</td>\n",
       "            </tr>\n",
       "            <tr>\n",
       "                        <th id=\"T_b9deeb8c_5c7c_11ec_b3a0_509a4c960aeclevel0_row25\" class=\"row_heading level0 row25\" >188</th>\n",
       "                        <td id=\"T_b9deeb8c_5c7c_11ec_b3a0_509a4c960aecrow25_col0\" class=\"data row25 col0\" >A full-time bootcamp focusing on fundamentals of computer science and hands-on practice of data engineering / analysis.</td>\n",
       "            </tr>\n",
       "            <tr>\n",
       "                        <th id=\"T_b9deeb8c_5c7c_11ec_b3a0_509a4c960aeclevel0_row26\" class=\"row_heading level0 row26\" >189</th>\n",
       "                        <td id=\"T_b9deeb8c_5c7c_11ec_b3a0_509a4c960aecrow26_col0\" class=\"data row26 col0\" >The curriculum includes Linux, SQL, Java, Python, Javascript, Data Analysis, Machine Learning, Data Visualization. In the final project, we leveraged the skills above and build an online platform to evaluate reasonable house prices of certain area and provide analytic report and visualization.</td>\n",
       "            </tr>\n",
       "            <tr>\n",
       "                        <th id=\"T_b9deeb8c_5c7c_11ec_b3a0_509a4c960aeclevel0_row27\" class=\"row_heading level0 row27\" >216</th>\n",
       "                        <td id=\"T_b9deeb8c_5c7c_11ec_b3a0_509a4c960aecrow27_col0\" class=\"data row27 col0\" >• Cooperated with engineers and PMs to design image recommendation feature; analyzed relationship between image usage and ad performance using TB level data (SQL, C#)</td>\n",
       "            </tr>\n",
       "            <tr>\n",
       "                        <th id=\"T_b9deeb8c_5c7c_11ec_b3a0_509a4c960aeclevel0_row28\" class=\"row_heading level0 row28\" >217</th>\n",
       "                        <td id=\"T_b9deeb8c_5c7c_11ec_b3a0_509a4c960aecrow28_col0\" class=\"data row28 col0\" >• Performed data analysis to identify cause of performance issue for 10+ customers; formulated SOP to increase work efficiency</td>\n",
       "            </tr>\n",
       "            <tr>\n",
       "                        <th id=\"T_b9deeb8c_5c7c_11ec_b3a0_509a4c960aeclevel0_row29\" class=\"row_heading level0 row29\" >219</th>\n",
       "                        <td id=\"T_b9deeb8c_5c7c_11ec_b3a0_509a4c960aecrow29_col0\" class=\"data row29 col0\" >• Created dashboards (PowerBI) to monitor demand health and performance of each market; built data pipelines to acquire needed information; documented source and process</td>\n",
       "            </tr>\n",
       "            <tr>\n",
       "                        <th id=\"T_b9deeb8c_5c7c_11ec_b3a0_509a4c960aeclevel0_row30\" class=\"row_heading level0 row30\" >231</th>\n",
       "                        <td id=\"T_b9deeb8c_5c7c_11ec_b3a0_509a4c960aecrow30_col0\" class=\"data row30 col0\" >InfoVis Lab, Sanghani Center for Artificial Intelligence and Data Analytics</td>\n",
       "            </tr>\n",
       "            <tr>\n",
       "                        <th id=\"T_b9deeb8c_5c7c_11ec_b3a0_509a4c960aeclevel0_row31\" class=\"row_heading level0 row31\" >233</th>\n",
       "                        <td id=\"T_b9deeb8c_5c7c_11ec_b3a0_509a4c960aecrow31_col0\" class=\"data row31 col0\" >• Visualized the results of the analysis, created dashboard with interactive visualization designs using Vega (https://vega.github.io/vega/).</td>\n",
       "            </tr>\n",
       "            <tr>\n",
       "                        <th id=\"T_b9deeb8c_5c7c_11ec_b3a0_509a4c960aeclevel0_row32\" class=\"row_heading level0 row32\" >239</th>\n",
       "                        <td id=\"T_b9deeb8c_5c7c_11ec_b3a0_509a4c960aecrow32_col0\" class=\"data row32 col0\" >• Assisted enterprises in Taiwan with digital transformation using Microsoft Azure Cloud and Machine Learning.</td>\n",
       "            </tr>\n",
       "            <tr>\n",
       "                        <th id=\"T_b9deeb8c_5c7c_11ec_b3a0_509a4c960aeclevel0_row33\" class=\"row_heading level0 row33\" >240</th>\n",
       "                        <td id=\"T_b9deeb8c_5c7c_11ec_b3a0_509a4c960aecrow33_col0\" class=\"data row33 col0\" >• Developed automated process for identifying comments on Twitter with Python web crawler. Built an NLP pipeline using spaCy for text classification and tokenization and combined with Azure for sentiment analysis. Reduced processing time by 33%.</td>\n",
       "            </tr>\n",
       "            <tr>\n",
       "                        <th id=\"T_b9deeb8c_5c7c_11ec_b3a0_509a4c960aeclevel0_row34\" class=\"row_heading level0 row34\" >244</th>\n",
       "                        <td id=\"T_b9deeb8c_5c7c_11ec_b3a0_509a4c960aecrow34_col0\" class=\"data row34 col0\" >• Tracked weekly and monthly sales data with Python and visualized results with Data Studio. Provided solutions through quantitative analysis.</td>\n",
       "            </tr>\n",
       "            <tr>\n",
       "                        <th id=\"T_b9deeb8c_5c7c_11ec_b3a0_509a4c960aeclevel0_row35\" class=\"row_heading level0 row35\" >264</th>\n",
       "                        <td id=\"T_b9deeb8c_5c7c_11ec_b3a0_509a4c960aecrow35_col0\" class=\"data row35 col0\" >• Created interactive overview dashboard and visualized user data analysis report with Data Studio</td>\n",
       "            </tr>\n",
       "            <tr>\n",
       "                        <th id=\"T_b9deeb8c_5c7c_11ec_b3a0_509a4c960aeclevel0_row36\" class=\"row_heading level0 row36\" >283</th>\n",
       "                        <td id=\"T_b9deeb8c_5c7c_11ec_b3a0_509a4c960aecrow36_col0\" class=\"data row36 col0\" >• Developed QR code entry on invitation page to attract new users, responsible for feature iteration, design of A/B testing and effect analysis based on Java; increased module DAU by 8% on average.</td>\n",
       "            </tr>\n",
       "            <tr>\n",
       "                        <th id=\"T_b9deeb8c_5c7c_11ec_b3a0_509a4c960aeclevel0_row37\" class=\"row_heading level0 row37\" >287</th>\n",
       "                        <td id=\"T_b9deeb8c_5c7c_11ec_b3a0_509a4c960aecrow37_col0\" class=\"data row37 col0\" >• Tracked interface access data of over 5,000 users based on Grafana(a visualization web application for company’s internal use), visualized daily actions on the dashboard, and monitored to ensure stability.</td>\n",
       "            </tr>\n",
       "            <tr>\n",
       "                        <th id=\"T_b9deeb8c_5c7c_11ec_b3a0_509a4c960aeclevel0_row38\" class=\"row_heading level0 row38\" >314</th>\n",
       "                        <td id=\"T_b9deeb8c_5c7c_11ec_b3a0_509a4c960aecrow38_col0\" class=\"data row38 col0\" >- Generated China server market analysis report. Including analyzing sales performance data, classifying manufacturers, and organizing official financial reports.</td>\n",
       "            </tr>\n",
       "    </tbody></table>"
      ],
      "text/plain": [
       "<pandas.io.formats.style.Styler at 0x2acb70245390>"
      ]
     },
     "execution_count": 163,
     "metadata": {},
     "output_type": "execute_result"
    }
   ],
   "source": [
    "df_qrel.iloc[idxs][['text']].style.set_properties(**{'text-align': 'left'})"
   ]
  },
  {
   "cell_type": "code",
   "execution_count": 103,
   "metadata": {},
   "outputs": [],
   "source": [
    "idx2= [0]\n",
    "idx1= []\n",
    "idx0= []\n",
    "for idx in idx2:\n",
    "    df_qrel.at[idx, 'score'] = 2\n",
    "for idx in idx1:\n",
    "    df_qrel.at[idx, 'score'] = 1\n",
    "for idx in idx0:\n",
    "    df_qrel.at[idx, 'score'] = 0\n",
    "path = \"../dataset/qrel/query - %d.csv\"%(qid)\n",
    "df_qrel.to_csv(path)"
   ]
  },
  {
   "cell_type": "code",
   "execution_count": null,
   "metadata": {},
   "outputs": [],
   "source": []
  },
  {
   "cell_type": "code",
   "execution_count": 106,
   "metadata": {},
   "outputs": [],
   "source": []
  }
 ],
 "metadata": {
  "kernelspec": {
   "display_name": "Python 3",
   "language": "python",
   "name": "python3"
  },
  "language_info": {
   "codemirror_mode": {
    "name": "ipython",
    "version": 3
   },
   "file_extension": ".py",
   "mimetype": "text/x-python",
   "name": "python",
   "nbconvert_exporter": "python",
   "pygments_lexer": "ipython3",
   "version": "3.6.5"
  }
 },
 "nbformat": 4,
 "nbformat_minor": 2
}
