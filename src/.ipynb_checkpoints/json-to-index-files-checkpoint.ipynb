{
 "cells": [
  {
   "cell_type": "code",
   "execution_count": 1,
   "id": "677ee072",
   "metadata": {},
   "outputs": [],
   "source": [
    "import json\n",
    "    "
   ]
  },
  {
   "cell_type": "code",
   "execution_count": null,
   "id": "eb648b6a",
   "metadata": {},
   "outputs": [],
   "source": [
    "ndoc = 10\n",
    "arr_dic = []\n",
    "for i in range(ndoc):\n",
    "    dic = {}\n",
    "    dic['id'] = str(row['DocumentId'])\n",
    "    dic['contents'] = row['Document Description']\n"
   ]
  }
 ],
 "metadata": {
  "kernelspec": {
   "display_name": "Python 3 (ipykernel)",
   "language": "python",
   "name": "python3"
  },
  "language_info": {
   "codemirror_mode": {
    "name": "ipython",
    "version": 3
   },
   "file_extension": ".py",
   "mimetype": "text/x-python",
   "name": "python",
   "nbconvert_exporter": "python",
   "pygments_lexer": "ipython3",
   "version": "3.9.7"
  }
 },
 "nbformat": 4,
 "nbformat_minor": 5
}
